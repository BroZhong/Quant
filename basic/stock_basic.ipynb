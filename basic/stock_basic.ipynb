{
 "cells": [
  {
   "cell_type": "code",
   "execution_count": 5,
   "id": "90af29c4-7578-4319-9f2e-4ca4a2c89ce4",
   "metadata": {},
   "outputs": [],
   "source": [
    "# 获取股票日 K\n",
    "from urllib.request import urlopen  # python自带爬虫库\n",
    "import json  # python自带的json数据库\n",
    "from random import randint  # python自带的随机数库\n",
    "import pandas as pd\n",
    "pd.set_option('expand_frame_repr', False)  # 当列太多时不换行\n",
    "pd.set_option('display.max_rows', 5000)  # 最多显示数据的行数\n",
    "\n",
    "def get_k_line(stock_code, k_type = 'day', num = 640):\n",
    "    randomStr = str(randint(10**15, (10**16)-1))\n",
    "    url = f'http://web.ifzq.gtimg.cn/appstock/app/fqkline/get?_var=kline_{k_type}qfq&param={stock_code},{k_type},,,{num},qfq&r=0.{randomStr}'\n",
    "    content = urlopen(url).read().decode()\n",
    "\n",
    "    # ===将数据转换成dict格式\n",
    "    content = content.split('=', maxsplit=1)[-1]\n",
    "    content = json.loads(content)  # 自己去仔细看下这里面有什么数据\n",
    "    \n",
    "    # ===将数据转换成DataFrame格式\n",
    "    k_data = content['data'][stock_code]\n",
    "    if k_type in k_data:\n",
    "        k_data = k_data[k_type]\n",
    "    elif 'qfq' + k_type in k_data:  # qfq是前复权的缩写\n",
    "        k_data = k_data['qfq' + k_type]\n",
    "    else:\n",
    "        raise ValueError('已知的key在dict中均不存在，请检查数据')\n",
    "    df = pd.DataFrame(k_data)\n",
    "\n",
    "    # ===对数据进行整理\n",
    "    rename_dict = {0: 'candle_end_time', 1: 'open', 2: 'close', 3: 'high', 4: 'low', 5: 'amount', 6: 'info'}\n",
    "    # 其中amount单位是手，说明数据不够精确\n",
    "    df.rename(columns=rename_dict, inplace=True)\n",
    "    df['prev_close'] = df['close'].shift(1)\n",
    "    df['candle_end_time'] = pd.to_datetime(df['candle_end_time'])\n",
    "    if 'info' not in df:\n",
    "        df['info'] = None\n",
    "    df = df[['candle_end_time', 'open', 'high', 'low', 'close', 'prev_close', 'amount', 'info']]\n",
    "    return df\n",
    "\n",
    "stock_code = 'sh000002'\n",
    "df = get_k_line(stock_code)\n",
    "df.head()\n",
    "df.to_csv(f'{stock_code}_day_k.csv', index=False)"
   ]
  },
  {
   "cell_type": "code",
   "execution_count": 7,
   "id": "58236ce3-5268-4e56-9570-b95f34df999a",
   "metadata": {},
   "outputs": [],
   "source": [
    "# 获取上证指数日 K 数据，包括前收盘价\n",
    "df_sh000001 = get_k_line('sh000001', 'day', 2000)\n",
    "df_sh000001.head()\n",
    "df_sh000001.to_csv(f'sh000001_day_k.csv', index=False)\n"
   ]
  },
  {
   "cell_type": "code",
   "execution_count": null,
   "id": "f6ef3599-2b83-4092-9f9b-c9b658019914",
   "metadata": {},
   "outputs": [],
   "source": [
    "# 将日线数据转化为月线数据，计算涨跌幅和交易天数\n",
    "\n"
   ]
  }
 ],
 "metadata": {
  "kernelspec": {
   "display_name": "Python 3 (ipykernel)",
   "language": "python",
   "name": "python3"
  },
  "language_info": {
   "codemirror_mode": {
    "name": "ipython",
    "version": 3
   },
   "file_extension": ".py",
   "mimetype": "text/x-python",
   "name": "python",
   "nbconvert_exporter": "python",
   "pygments_lexer": "ipython3",
   "version": "3.11.5"
  }
 },
 "nbformat": 4,
 "nbformat_minor": 5
}
